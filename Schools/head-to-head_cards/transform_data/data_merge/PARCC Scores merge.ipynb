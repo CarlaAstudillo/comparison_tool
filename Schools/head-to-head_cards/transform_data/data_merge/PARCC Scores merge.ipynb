{
 "cells": [
  {
   "cell_type": "code",
   "execution_count": 1,
   "metadata": {
    "collapsed": true
   },
   "outputs": [],
   "source": [
    "import pandas as pd"
   ]
  },
  {
   "cell_type": "code",
   "execution_count": 2,
   "metadata": {
    "collapsed": true
   },
   "outputs": [],
   "source": [
    "previous_scores = pd.read_csv('previous_both_subject.csv')\n",
    "latest_scores = pd.read_csv('latest_both_subject.csv')"
   ]
  },
  {
   "cell_type": "code",
   "execution_count": 3,
   "metadata": {
    "collapsed": false
   },
   "outputs": [
    {
     "data": {
      "text/plain": [
       "12209"
      ]
     },
     "execution_count": 3,
     "metadata": {},
     "output_type": "execute_result"
    }
   ],
   "source": [
    "len(previous_scores.index)"
   ]
  },
  {
   "cell_type": "code",
   "execution_count": 4,
   "metadata": {
    "collapsed": false
   },
   "outputs": [
    {
     "data": {
      "text/plain": [
       "12300"
      ]
     },
     "execution_count": 4,
     "metadata": {},
     "output_type": "execute_result"
    }
   ],
   "source": [
    "len(latest_scores.index)"
   ]
  },
  {
   "cell_type": "code",
   "execution_count": 5,
   "metadata": {
    "collapsed": false
   },
   "outputs": [
    {
     "data": {
      "text/plain": [
       "['COUNTY CODE',\n",
       " 'COUNTY NAME',\n",
       " 'DISTRICT CODE',\n",
       " 'DISTRICT NAME',\n",
       " 'SCHOOL CODE',\n",
       " 'SCHOOL NAME',\n",
       " 'DFG',\n",
       " 'SUBGROUP',\n",
       " 'SUBGROUP_TYPE',\n",
       " 'LATEST_REGISTERED TO TEST_MATH',\n",
       " 'LATEST_NOT TESTED ** (See Below)_MATH',\n",
       " 'LATEST_VALID SCORES_MATH',\n",
       " 'LATEST_MEAN SCALE SCORE_MATH',\n",
       " 'LATEST_L1 PERCENT_MATH',\n",
       " 'LATEST_L2 PERCENT_MATH',\n",
       " 'LATEST_L3 PERCENT_MATH',\n",
       " 'LATEST_L4 PERCENT_MATH',\n",
       " 'LATEST_L5 PERCENT_MATH',\n",
       " 'GRADE',\n",
       " 'LATEST_REGISTERED TO TEST_LA',\n",
       " 'LATEST_NOT TESTED ** (See Below)_LA',\n",
       " 'LATEST_VALID SCORES_LA',\n",
       " 'LATEST_MEAN SCALE SCORE_LA',\n",
       " 'LATEST_L1 PERCENT_LA',\n",
       " 'LATEST_L2 PERCENT_LA',\n",
       " 'LATEST_L3 PERCENT_LA',\n",
       " 'LATEST_L4 PERCENT_LA',\n",
       " 'LATEST_L5 PERCENT_LA']"
      ]
     },
     "execution_count": 5,
     "metadata": {},
     "output_type": "execute_result"
    }
   ],
   "source": [
    "list(latest_scores)"
   ]
  },
  {
   "cell_type": "code",
   "execution_count": 6,
   "metadata": {
    "collapsed": true
   },
   "outputs": [],
   "source": [
    "ultimate_parcc_scores = pd.merge(latest_scores, previous_scores, on=['COUNTY CODE', 'DISTRICT CODE', 'SCHOOL CODE', 'COUNTY NAME', 'DISTRICT NAME', 'SCHOOL NAME', 'DFG', 'SUBGROUP', 'SUBGROUP_TYPE', 'GRADE'], how='outer')"
   ]
  },
  {
   "cell_type": "code",
   "execution_count": 7,
   "metadata": {
    "collapsed": false
   },
   "outputs": [
    {
     "data": {
      "text/plain": [
       "['COUNTY CODE',\n",
       " 'COUNTY NAME',\n",
       " 'DISTRICT CODE',\n",
       " 'DISTRICT NAME',\n",
       " 'SCHOOL CODE',\n",
       " 'SCHOOL NAME',\n",
       " 'DFG',\n",
       " 'SUBGROUP',\n",
       " 'SUBGROUP_TYPE',\n",
       " 'LATEST_REGISTERED TO TEST_MATH',\n",
       " 'LATEST_NOT TESTED ** (See Below)_MATH',\n",
       " 'LATEST_VALID SCORES_MATH',\n",
       " 'LATEST_MEAN SCALE SCORE_MATH',\n",
       " 'LATEST_L1 PERCENT_MATH',\n",
       " 'LATEST_L2 PERCENT_MATH',\n",
       " 'LATEST_L3 PERCENT_MATH',\n",
       " 'LATEST_L4 PERCENT_MATH',\n",
       " 'LATEST_L5 PERCENT_MATH',\n",
       " 'GRADE',\n",
       " 'LATEST_REGISTERED TO TEST_LA',\n",
       " 'LATEST_NOT TESTED ** (See Below)_LA',\n",
       " 'LATEST_VALID SCORES_LA',\n",
       " 'LATEST_MEAN SCALE SCORE_LA',\n",
       " 'LATEST_L1 PERCENT_LA',\n",
       " 'LATEST_L2 PERCENT_LA',\n",
       " 'LATEST_L3 PERCENT_LA',\n",
       " 'LATEST_L4 PERCENT_LA',\n",
       " 'LATEST_L5 PERCENT_LA',\n",
       " 'PREV_REGISTERED TO TEST_MATH',\n",
       " 'PREV_NOT TESTED ** (See Below)_MATH',\n",
       " 'PREV_VALID SCORES_MATH',\n",
       " 'PREV_MEAN SCALE SCORE_MATH',\n",
       " 'PREV_L1 PERCENT_MATH',\n",
       " 'PREV_L2 PERCENT_MATH',\n",
       " 'PREV_L3 PERCENT_MATH',\n",
       " 'PREV_L4 PERCENT_MATH',\n",
       " 'PREV_L5 PERCENT_MATH',\n",
       " 'PREV_REGISTERED TO TEST_LA',\n",
       " 'PREV_NOT TESTED ** (See Below)_LA',\n",
       " 'PREV_VALID SCORES_LA',\n",
       " 'PREV_MEAN SCALE SCORE_LA',\n",
       " 'PREV_L1 PERCENT_LA',\n",
       " 'PREV_L2 PERCENT_LA',\n",
       " 'PREV_L3 PERCENT_LA',\n",
       " 'PREV_L4 PERCENT_LA',\n",
       " 'PREV_L5 PERCENT_LA']"
      ]
     },
     "execution_count": 7,
     "metadata": {},
     "output_type": "execute_result"
    }
   ],
   "source": [
    "list(ultimate_parcc_scores)"
   ]
  },
  {
   "cell_type": "code",
   "execution_count": 8,
   "metadata": {
    "collapsed": true
   },
   "outputs": [],
   "source": [
    "ultimate_parcc_scores.to_csv('ultimate_parcc_scores.csv', index=False)"
   ]
  },
  {
   "cell_type": "code",
   "execution_count": 9,
   "metadata": {
    "collapsed": false
   },
   "outputs": [
    {
     "data": {
      "text/plain": [
       "13132"
      ]
     },
     "execution_count": 9,
     "metadata": {},
     "output_type": "execute_result"
    }
   ],
   "source": [
    "len(ultimate_parcc_scores.index)"
   ]
  },
  {
   "cell_type": "code",
   "execution_count": null,
   "metadata": {
    "collapsed": true
   },
   "outputs": [],
   "source": []
  }
 ],
 "metadata": {
  "kernelspec": {
   "display_name": "Python 2",
   "language": "python",
   "name": "python2"
  },
  "language_info": {
   "codemirror_mode": {
    "name": "ipython",
    "version": 2
   },
   "file_extension": ".py",
   "mimetype": "text/x-python",
   "name": "python",
   "nbconvert_exporter": "python",
   "pygments_lexer": "ipython2",
   "version": "2.7.12"
  }
 },
 "nbformat": 4,
 "nbformat_minor": 0
}
